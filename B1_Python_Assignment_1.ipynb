{
  "nbformat": 4,
  "nbformat_minor": 0,
  "metadata": {
    "colab": {
      "name": "Assignment 1.ipynb",
      "provenance": [],
      "authorship_tag": "ABX9TyPRBYdoIBQcmwnncwYUOx69",
      "include_colab_link": true
    },
    "kernelspec": {
      "name": "python3",
      "display_name": "Python 3"
    }
  },
  "cells": [
    {
      "cell_type": "markdown",
      "metadata": {
        "id": "view-in-github",
        "colab_type": "text"
      },
      "source": [
        "<a href=\"https://colab.research.google.com/github/ShrutiNilam/LU-Python-B6/blob/master/B1_Python_Assignment_1.ipynb\" target=\"_parent\"><img src=\"https://colab.research.google.com/assets/colab-badge.svg\" alt=\"Open In Colab\"/></a>"
      ]
    },
    {
      "cell_type": "markdown",
      "metadata": {
        "id": "fwUl092mXayd"
      },
      "source": [
        "Q1. Given the following jumbled word, OBANWRI guess the correct English word.\n",
        "A. RANIBOW\n",
        "B. RAINBOW\n",
        "C. BOWRANI\n",
        "D. ROBWANI"
      ]
    },
    {
      "cell_type": "code",
      "metadata": {
        "id": "NaILJjhELVgL",
        "outputId": "d62f45ec-c410-4b4e-f429-fca75a22f61d",
        "colab": {
          "base_uri": "https://localhost:8080/"
        }
      },
      "source": [
        "print(\"Q1: B RAINBOW\")\n"
      ],
      "execution_count": null,
      "outputs": [
        {
          "output_type": "stream",
          "text": [
            "Q1: B RAINBOW\n"
          ],
          "name": "stdout"
        }
      ]
    },
    {
      "cell_type": "markdown",
      "metadata": {
        "id": "gnvB2_-lXpYT"
      },
      "source": [
        "Q2. Write a program which prints “LETS UPGRADE”. (Please note that you have to\n",
        "print in ALL CAPS as given)"
      ]
    },
    {
      "cell_type": "code",
      "metadata": {
        "id": "PpEx3Nx_PfGv",
        "outputId": "d5716021-270e-4617-87b5-e794f3cbc703",
        "colab": {
          "base_uri": "https://localhost:8080/"
        }
      },
      "source": [
        "print(\"LETS UPGRADE\")"
      ],
      "execution_count": null,
      "outputs": [
        {
          "output_type": "stream",
          "text": [
            "LETS UPGRADE\n"
          ],
          "name": "stdout"
        }
      ]
    },
    {
      "cell_type": "markdown",
      "metadata": {
        "id": "m0_GjV0BX4fM"
      },
      "source": [
        "Q3. Write a program that takes cost price and selling price as input and displays whether the transaction is a\n",
        "Profit or a Loss or Neither."
      ]
    },
    {
      "cell_type": "code",
      "metadata": {
        "id": "FcT6ugpXPrNT",
        "outputId": "6b929693-e4f7-4ee5-e192-6a371606b6c8",
        "colab": {
          "base_uri": "https://localhost:8080/"
        }
      },
      "source": [
        "CP = int(input())\n",
        "SP = int(input())\n",
        "if CP > SP:\n",
        "  print(\"Loss\")\n",
        "elif CP < SP:\n",
        "  print(\"Profit\")\n",
        "else:\n",
        "  print(\"Neither\")"
      ],
      "execution_count": null,
      "outputs": [
        {
          "output_type": "stream",
          "text": [
            "20\n",
            "30\n",
            "Profit\n"
          ],
          "name": "stdout"
        }
      ]
    },
    {
      "cell_type": "code",
      "metadata": {
        "id": "u1jTRPErTgbk",
        "outputId": "f6871a78-afc1-4326-ed43-fddc5bf8b43e",
        "colab": {
          "base_uri": "https://localhost:8080/"
        }
      },
      "source": [
        "CP = int(input())\n",
        "SP = int(input())\n",
        "if CP > SP:\n",
        "  print(\"Loss\")\n",
        "elif CP < SP:\n",
        "  print(\"Profit\")\n",
        "else:\n",
        "  print(\"Neither\")\n"
      ],
      "execution_count": null,
      "outputs": [
        {
          "output_type": "stream",
          "text": [
            "20\n",
            "10\n",
            "Loss\n"
          ],
          "name": "stdout"
        }
      ]
    },
    {
      "cell_type": "code",
      "metadata": {
        "id": "2kGKtNZiUJCA",
        "outputId": "61e384e8-08b2-42d3-dcf3-595956172acc",
        "colab": {
          "base_uri": "https://localhost:8080/"
        }
      },
      "source": [
        "CP = int(input())\n",
        "SP = int(input())\n",
        "if CP > SP:\n",
        "  print(\"Loss\")\n",
        "elif CP < SP:\n",
        "  print(\"Profit\")\n",
        "else:\n",
        "  print(\"Neither\")"
      ],
      "execution_count": 20,
      "outputs": [
        {
          "output_type": "stream",
          "text": [
            "20\n",
            "20\n",
            "Neither\n"
          ],
          "name": "stdout"
        }
      ]
    },
    {
      "cell_type": "code",
      "metadata": {
        "id": "492QpuTmWpFf",
        "outputId": "77a0b82a-2b35-4adb-eae3-b3a263776f76",
        "colab": {
          "base_uri": "https://localhost:8080/"
        }
      },
      "source": [
        "CP = int(input())\n",
        "SP = int(input())\n",
        "if CP > SP:\n",
        "  print(\"Loss\")\n",
        "elif CP < SP:\n",
        "  print(\"Profit\")\n",
        "else:\n",
        "  print(\"Neither\")"
      ],
      "execution_count": 21,
      "outputs": [
        {
          "output_type": "stream",
          "text": [
            "19\n",
            "19\n",
            "Neither\n"
          ],
          "name": "stdout"
        }
      ]
    },
    {
      "cell_type": "code",
      "metadata": {
        "id": "lAqGf47JWpyB",
        "outputId": "89a56a3b-92b1-4d58-8427-ffc265a9ee48",
        "colab": {
          "base_uri": "https://localhost:8080/"
        }
      },
      "source": [
        "CP = int(input())\n",
        "SP = int(input())\n",
        "if CP > SP:\n",
        "  print(\"Loss\")\n",
        "elif CP < SP:\n",
        "  print(\"Profit\")\n",
        "else:\n",
        "  print(\"Neither\")"
      ],
      "execution_count": 22,
      "outputs": [
        {
          "output_type": "stream",
          "text": [
            "23\n",
            "7\n",
            "Loss\n"
          ],
          "name": "stdout"
        }
      ]
    },
    {
      "cell_type": "code",
      "metadata": {
        "id": "Aoy-6tazWmfL",
        "outputId": "e7281e33-6165-46b2-e558-a0e722d192f3",
        "colab": {
          "base_uri": "https://localhost:8080/"
        }
      },
      "source": [
        "CP = int(input())\n",
        "SP = int(input())\n",
        "if CP > SP:\n",
        "  print(\"Loss\")\n",
        "elif CP < SP:\n",
        "  print(\"Profit\")\n",
        "else:\n",
        "  print(\"Neither\")"
      ],
      "execution_count": 23,
      "outputs": [
        {
          "output_type": "stream",
          "text": [
            "19\n",
            "95\n",
            "Profit\n"
          ],
          "name": "stdout"
        }
      ]
    },
    {
      "cell_type": "markdown",
      "metadata": {
        "id": "04ZZHjO4YImH"
      },
      "source": [
        "Q4. Write a program that takes an amount in Euros as input. You need to find its equivalent in\n",
        "Rupees and display it. Assume 1 Euro equals Rs. 80."
      ]
    },
    {
      "cell_type": "code",
      "metadata": {
        "id": "NPG-fBpHUcHT",
        "outputId": "596b1b06-7e80-4564-8b21-c851383e6420",
        "colab": {
          "base_uri": "https://localhost:8080/"
        }
      },
      "source": [
        "Euros= int(input())\n",
        "print (Euros*80, \"rupees\")"
      ],
      "execution_count": 12,
      "outputs": [
        {
          "output_type": "stream",
          "text": [
            "20\n",
            "1600 rupees\n"
          ],
          "name": "stdout"
        }
      ]
    },
    {
      "cell_type": "code",
      "metadata": {
        "id": "WjW8E35YVFHD",
        "outputId": "f2d6ff4c-3bb4-4742-846d-40278fc799eb",
        "colab": {
          "base_uri": "https://localhost:8080/"
        }
      },
      "source": [
        "Euros= int(input())\n",
        "print (Euros*80, \"rupees\")"
      ],
      "execution_count": 13,
      "outputs": [
        {
          "output_type": "stream",
          "text": [
            "50\n",
            "4000 rupees\n"
          ],
          "name": "stdout"
        }
      ]
    },
    {
      "cell_type": "code",
      "metadata": {
        "id": "PslGtioHVotX",
        "outputId": "d8a8c28e-a41a-4d48-e68b-d763acc66f0d",
        "colab": {
          "base_uri": "https://localhost:8080/"
        }
      },
      "source": [
        "Euros= int(input())\n",
        "print (Euros*80, \"rupees\")"
      ],
      "execution_count": 14,
      "outputs": [
        {
          "output_type": "stream",
          "text": [
            "72\n",
            "5760 rupees\n"
          ],
          "name": "stdout"
        }
      ]
    },
    {
      "cell_type": "code",
      "metadata": {
        "id": "Vr4PqsAhVrI_",
        "outputId": "4a23d214-8e15-4f11-d0fd-8accae35f3ae",
        "colab": {
          "base_uri": "https://localhost:8080/"
        }
      },
      "source": [
        "Euros= int(input())\n",
        "print (Euros*80, \"rupees\")"
      ],
      "execution_count": 15,
      "outputs": [
        {
          "output_type": "stream",
          "text": [
            "7\n",
            "560 rupees\n"
          ],
          "name": "stdout"
        }
      ]
    },
    {
      "cell_type": "code",
      "metadata": {
        "id": "kx5LMouaVuI9",
        "outputId": "f84ac728-8547-4827-d664-048266d5c86c",
        "colab": {
          "base_uri": "https://localhost:8080/"
        }
      },
      "source": [
        "Euros= int(input())\n",
        "print (Euros*80, \"rupees\")"
      ],
      "execution_count": 16,
      "outputs": [
        {
          "output_type": "stream",
          "text": [
            "35\n",
            "2800 rupees\n"
          ],
          "name": "stdout"
        }
      ]
    },
    {
      "cell_type": "code",
      "metadata": {
        "id": "etBrDS1iVxyZ",
        "outputId": "4f55c4e4-7e01-417a-a9df-d5de8a938b41",
        "colab": {
          "base_uri": "https://localhost:8080/"
        }
      },
      "source": [
        "Euros= int(input())\n",
        "print (Euros*80, \"rupees\")"
      ],
      "execution_count": 17,
      "outputs": [
        {
          "output_type": "stream",
          "text": [
            "23\n",
            "1840 rupees\n"
          ],
          "name": "stdout"
        }
      ]
    },
    {
      "cell_type": "code",
      "metadata": {
        "id": "Ou75sJ5UVz97",
        "outputId": "2a6fdb69-2b7b-419c-fffa-ca49f0d7aa15",
        "colab": {
          "base_uri": "https://localhost:8080/"
        }
      },
      "source": [
        "Euros= int(input())\n",
        "print (Euros*80, \"rupees\")"
      ],
      "execution_count": 18,
      "outputs": [
        {
          "output_type": "stream",
          "text": [
            "95\n",
            "7600 rupees\n"
          ],
          "name": "stdout"
        }
      ]
    },
    {
      "cell_type": "code",
      "metadata": {
        "id": "J5EGjupRV25n",
        "outputId": "204d591c-a4c6-43e0-c159-da165568495e",
        "colab": {
          "base_uri": "https://localhost:8080/"
        }
      },
      "source": [
        "Euros= int(input())\n",
        "print (Euros*80, \"rupees\")"
      ],
      "execution_count": 19,
      "outputs": [
        {
          "output_type": "stream",
          "text": [
            "18\n",
            "1440 rupees\n"
          ],
          "name": "stdout"
        }
      ]
    }
  ]
}