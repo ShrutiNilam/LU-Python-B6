# Sum of n numbers

sum =int(0)
print("how many numbers u want to add?")
num = int(input())
print("Enter %d integers" % num)
i = int(0)
while i < num:
  value=int(input())
  sum = sum + value
  i += 1
print("The sum of n numbers is %d "% sum)



# To check if a given number is prime or not

print("Enter an integer to check if it is a prime number or not")
number = int(input())
if number % 2 != 0:
  print("%d is a Prime Number" %number)
else:
  print("%d is not Prime number"%number)
