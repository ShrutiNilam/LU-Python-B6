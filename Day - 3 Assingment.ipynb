{
  "nbformat": 4,
  "nbformat_minor": 0,
  "metadata": {
    "colab": {
      "name": "Day3_Practice.ipynb",
      "provenance": [],
      "collapsed_sections": []
    },
    "kernelspec": {
      "name": "python3",
      "display_name": "Python 3"
    }
  },
  "cells": [
    {
      "cell_type": "code",
      "metadata": {
        "id": "qwpbuLyaDr26",
        "colab_type": "code",
        "colab": {
          "base_uri": "https://localhost:8080/",
          "height": 146
        },
        "outputId": "f8a6d4c4-3779-4b43-f2a5-b735a3dfb76d"
      },
      "source": [
        "#To find the sum of n numbers\n",
        "\n",
        "sum =int(0)\n",
        "print(\"how many numbers u want to add?\")\n",
        "num = int(input())\n",
        "print(\"Enter %d integers\" % num)\n",
        "i = int(0)\n",
        "while i < num:\n",
        "  value=int(input())\n",
        "  sum = sum + value\n",
        "  i += 1\n",
        "print(\"The sum of n numbers is %d \"% sum)"
      ],
      "execution_count": 9,
      "outputs": [
        {
          "output_type": "stream",
          "text": [
            "how many numbers u want to add?\n",
            "3\n",
            "Enter 3 integers\n",
            "10\n",
            "9\n",
            "8\n",
            "The sum of n numbers is 27 \n"
          ],
          "name": "stdout"
        }
      ]
    },
    {
      "cell_type": "code",
      "metadata": {
        "id": "tZx96l2fD8NB",
        "colab_type": "code",
        "colab": {
          "base_uri": "https://localhost:8080/",
          "height": 72
        },
        "outputId": "a28f4f74-879a-4054-c298-ba3d6c4ded14"
      },
      "source": [
        "#To check weather given number is prime or not\n",
        "\n",
        "print(\"Enter an integer to check if it is a prime number or not\")\n",
        "number = int(input())\n",
        "if number % 2 != 0:\n",
        "  print(\"%d is a Prime Number\" %number)\n",
        "else:\n",
        "  print(\"%d is not Prime number\"%number)"
      ],
      "execution_count": 11,
      "outputs": [
        {
          "output_type": "stream",
          "text": [
            "Enter an integer to check if it is a prime number or not\n",
            "51\n",
            "51 is a Prime Number\n"
          ],
          "name": "stdout"
        }
      ]
    }
  ]
}